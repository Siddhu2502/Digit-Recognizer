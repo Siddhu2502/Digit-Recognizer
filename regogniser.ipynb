{
 "cells": [
  {
   "cell_type": "code",
   "execution_count": 1,
   "metadata": {},
   "outputs": [],
   "source": [
    "import matplotlib.pyplot as plt\n",
    "import numpy as np\n",
    "import pandas as pd\n",
    "import seaborn as sns\n",
    "import matplotlib.image as img\n",
    "from sklearn.cluster import k_means\n",
    "from sklearn.model_selection import train_test_split\n",
    "from sklearn.preprocessing import OneHotEncoder\n",
    "from sklearn.neighbors import KNeighborsClassifier\n"
   ]
  },
  {
   "cell_type": "code",
   "execution_count": 2,
   "metadata": {},
   "outputs": [],
   "source": [
    "# load the test_csv and train_csv\n",
    "test_csv = pd.read_csv(\"test.csv\")\n",
    "train_csv = pd.read_csv(\"train.csv\")\n",
    "sample_csv = pd.read_csv(\"sample_submission.csv\")"
   ]
  },
  {
   "cell_type": "code",
   "execution_count": 3,
   "metadata": {},
   "outputs": [
    {
     "name": "stdout",
     "output_type": "stream",
     "text": [
      "(784,)\n"
     ]
    },
    {
     "data": {
      "image/png": "[encoded data removed]",
      "text/plain": [
       "<Figure size 432x288 with 1 Axes>"
      ]
     },
     "metadata": {
      "needs_background": "light"
     },
     "output_type": "display_data"
    }
   ],
   "source": [
    "# displaying the number in pixelated form as image (vector points to image for our convenience)\n",
    "\n",
    "df = pd.concat((train_csv, test_csv))\n",
    "\n",
    "features = df.columns.drop('label')\n",
    "print(features.shape)\n",
    "\n",
    "\n",
    "dum = pd.get_dummies(df, columns=['label'])\n",
    "df = pd.concat([df['label'], dum]) \n",
    "\n",
    "arr = np.asarray(np.array(train_csv.loc[np.random.randint(0, 784)][1:]).reshape(-28, 28))\n",
    "plt.imshow(arr, cmap='inferno', vmin=0, vmax=255)\n",
    "plt.show()"
   ]
  },
  {
   "cell_type": "code",
   "execution_count": 4,
   "metadata": {},
   "outputs": [],
   "source": [
    "X_train = train_csv.drop(['label'], axis=1)\n",
    "y_train = train_csv['label']\n",
    "\n",
    "X_train = X_train.values.reshape(-784,784)\n",
    "test_csv = (test_csv).values.reshape(-28,28)"
   ]
  },
  {
   "cell_type": "code",
   "execution_count": 5,
   "metadata": {},
   "outputs": [],
   "source": [
    "y_train = y_train.values.reshape(-1,1)\n",
    "y_train = OneHotEncoder(sparse=False).fit_transform(y_train)"
   ]
  },
  {
   "cell_type": "code",
   "execution_count": 6,
   "metadata": {},
   "outputs": [],
   "source": [
    "# train test split of X_train and y_train with reshaping\n",
    "KX_train, KX_test, KY_train, KY_test = train_test_split(X_train, y_train, test_size=0.2, random_state=452)"
   ]
  },
  {
   "cell_type": "code",
   "execution_count": 7,
   "metadata": {},
   "outputs": [
    {
     "data": {
      "text/plain": [
       "\"\\n# Image representation of the data after preprocessing\\n\\nimageviewer = plt.imshow(X_train[np.random.randint(0,783)][:,:,0], cmap='inferno', vmin=0, vmax=1)\\n\""
      ]
     },
     "execution_count": 7,
     "metadata": {},
     "output_type": "execute_result"
    }
   ],
   "source": [
    "'''\n",
    "# Image representation of the data after preprocessing\n",
    "\n",
    "imageviewer = plt.imshow(X_train[np.random.randint(0,783)][:,:,0], cmap='inferno', vmin=0, vmax=1)\n",
    "'''\n"
   ]
  },
  {
   "cell_type": "code",
   "execution_count": 8,
   "metadata": {},
   "outputs": [
    {
     "data": {
      "text/plain": [
       "0.964047619047619"
      ]
     },
     "execution_count": 8,
     "metadata": {},
     "output_type": "execute_result"
    }
   ],
   "source": [
    "knn = KNeighborsClassifier(n_neighbors=5)\n",
    "knn.fit(KX_train, KY_train)\n",
    "predictuion =  knn.predict(KX_test)\n",
    "knn.score(KX_test, KY_test)\n",
    "\n"
   ]
  }
 ],
 "metadata": {
  "kernelspec": {
   "display_name": "Python 3.10.3 64-bit",
   "language": "python",
   "name": "python3"
  },
  "language_info": {
   "codemirror_mode": {
    "name": "ipython",
    "version": 3
   },
   "file_extension": ".py",
   "mimetype": "text/x-python",
   "name": "python",
   "nbconvert_exporter": "python",
   "pygments_lexer": "ipython3",
   "version": "3.10.3"
  },
  "orig_nbformat": 4,
  "vscode": {
   "interpreter": {
    "hash": "37d127deac291ffcf9c7f40aed0f25c4c2b1eb59582edad5fe8fcfda13ce033a"
   }
  }
 },
 "nbformat": 4,
 "nbformat_minor": 2
}
