{
 "cells": [
  {
   "cell_type": "code",
   "execution_count": 11,
   "metadata": {},
   "outputs": [],
   "source": [
    "import matplotlib.pyplot as plt\n",
    "import numpy as np\n",
    "import pandas as pd\n",
    "import seaborn as sns\n",
    "import matplotlib.image as img\n",
    "from sklearn.cluster import k_means\n",
    "from sklearn.model_selection import train_test_split\n",
    "from sklearn.preprocessing import OneHotEncoder   \n",
    "from sklearn.ensemble import BaggingClassifier\n",
    "from sklearn.tree import DecisionTreeClassifier\n",
    "from sklearn.metrics import accuracy_score"
   ]
  },
  {
   "cell_type": "code",
   "execution_count": 12,
   "metadata": {},
   "outputs": [],
   "source": [
    "# load the test_csv and train_csv\n",
    "test_csv = pd.read_csv(\"test.csv\")\n",
    "train_csv = pd.read_csv(\"train.csv\")\n",
    "sample_csv = pd.read_csv(\"sample_submission.csv\")"
   ]
  },
  {
   "cell_type": "code",
   "execution_count": 13,
   "metadata": {},
   "outputs": [
    {
     "name": "stdout",
     "output_type": "stream",
     "text": [
      "(784,)\n"
     ]
    },
    {
     "data": {
      "image/png": "[encoded data removed]",
      "text/plain": [
       "<Figure size 432x288 with 1 Axes>"
      ]
     },
     "metadata": {
      "needs_background": "light"
     },
     "output_type": "display_data"
    }
   ],
   "source": [
    "# displaying the number in pixelated form as image (vector points to image for our convenience)\n",
    "\n",
    "df = pd.concat((train_csv, test_csv))\n",
    "\n",
    "features = df.columns.drop('label')\n",
    "print(features.shape)\n",
    "\n",
    "\n",
    "dum = pd.get_dummies(df, columns=['label'])\n",
    "df = pd.concat([df['label'], dum]) \n",
    "\n",
    "arr = np.asarray(np.array(train_csv.loc[np.random.randint(0, 784)][1:]).reshape(-28, 28))\n",
    "plt.imshow(arr, cmap='inferno', vmin=0, vmax=255)\n",
    "plt.show()"
   ]
  },
  {
   "cell_type": "code",
   "execution_count": 14,
   "metadata": {},
   "outputs": [],
   "source": [
    "X_train = train_csv.drop(['label'], axis=1)\n",
    "y_train = train_csv['label']\n",
    "\n",
    "(X_train.isnull().sum())\n",
    "(y_train.isnull().sum())\n",
    "\n",
    "\n",
    "X_train = (X_train).values.reshape(-1,28,28,1)\n",
    "test_csv = (test_csv).values.reshape(-1,28,28,1)\n",
    "\n",
    "X_train = X_train/255\n",
    "test_csv = test_csv/255"
   ]
  },
  {
   "cell_type": "code",
   "execution_count": 15,
   "metadata": {},
   "outputs": [],
   "source": [
    "y_train = OneHotEncoder(sparse=False).fit_transform(y_train.values.reshape(-1,1))\n",
    "\n",
    "y_train = y_train/255"
   ]
  },
  {
   "cell_type": "code",
   "execution_count": 16,
   "metadata": {},
   "outputs": [],
   "source": [
    "X_train, Y_train, X_test, Y_test = train_test_split(X_train, y_train, test_size=0.3, random_state=452)"
   ]
  },
  {
   "cell_type": "code",
   "execution_count": 17,
   "metadata": {},
   "outputs": [
    {
     "data": {
      "image/png": "[encoded data removed]",
      "text/plain": [
       "<Figure size 432x288 with 1 Axes>"
      ]
     },
     "metadata": {
      "needs_background": "light"
     },
     "output_type": "display_data"
    }
   ],
   "source": [
    "# Image representation of the data after preprocessing\n",
    "\n",
    "imageviewer = plt.imshow(X_train[np.random.randint(0, 784)][:,:,0], cmap='inferno', vmin=0, vmax=1)"
   ]
  },
  {
   "cell_type": "code",
   "execution_count": 19,
   "metadata": {},
   "outputs": [
    {
     "ename": "TypeError",
     "evalue": "BaseBagging.fit() got an unexpected keyword argument 'return_sequences'",
     "output_type": "error",
     "traceback": [
      "\u001b[1;31m---------------------------------------------------------------------------\u001b[0m",
      "\u001b[1;31mTypeError\u001b[0m                                 Traceback (most recent call last)",
      "\u001b[1;32mc:\\Users\\Siddharth\\VScode\\pythonprojects\\Digit-Recognizer\\regogniser.ipynb Cell 8'\u001b[0m in \u001b[0;36m<cell line: 4>\u001b[1;34m()\u001b[0m\n\u001b[0;32m      <a href='vscode-notebook-cell:/c%3A/Users/Siddharth/VScode/pythonprojects/Digit-Recognizer/regogniser.ipynb#ch0000008?line=0'>1</a>\u001b[0m DTC \u001b[39m=\u001b[39m DecisionTreeClassifier(max_depth\u001b[39m=\u001b[39m\u001b[39m8\u001b[39m, random_state\u001b[39m=\u001b[39m\u001b[39m452\u001b[39m, min_samples_split\u001b[39m=\u001b[39m\u001b[39m8\u001b[39m)\n\u001b[0;32m      <a href='vscode-notebook-cell:/c%3A/Users/Siddharth/VScode/pythonprojects/Digit-Recognizer/regogniser.ipynb#ch0000008?line=1'>2</a>\u001b[0m BC \u001b[39m=\u001b[39m BaggingClassifier(DTC, n_estimators\u001b[39m=\u001b[39m\u001b[39m100\u001b[39m, max_samples\u001b[39m=\u001b[39m\u001b[39m0.4\u001b[39m, random_state\u001b[39m=\u001b[39m\u001b[39m452\u001b[39m)\n\u001b[1;32m----> <a href='vscode-notebook-cell:/c%3A/Users/Siddharth/VScode/pythonprojects/Digit-Recognizer/regogniser.ipynb#ch0000008?line=3'>4</a>\u001b[0m BC\u001b[39m.\u001b[39;49mfit(X_train, y_train,return_sequences\u001b[39m=\u001b[39;49m\u001b[39mFalse\u001b[39;49;00m)\n\u001b[0;32m      <a href='vscode-notebook-cell:/c%3A/Users/Siddharth/VScode/pythonprojects/Digit-Recognizer/regogniser.ipynb#ch0000008?line=4'>5</a>\u001b[0m y_pred \u001b[39m=\u001b[39m BC\u001b[39m.\u001b[39mpredict(X_test)\n\u001b[0;32m      <a href='vscode-notebook-cell:/c%3A/Users/Siddharth/VScode/pythonprojects/Digit-Recognizer/regogniser.ipynb#ch0000008?line=6'>7</a>\u001b[0m accuracy \u001b[39m=\u001b[39m accuracy_score(Y_test, y_pred)\n",
      "\u001b[1;31mTypeError\u001b[0m: BaseBagging.fit() got an unexpected keyword argument 'return_sequences'"
     ]
    }
   ],
   "source": [
    "DTC = DecisionTreeClassifier(max_depth=8, random_state=452, min_samples_split=8)\n",
    "BC = BaggingClassifier(DTC, n_estimators=100, max_samples=0.4, random_state=452)\n",
    "\n",
    "BC.fit(X_train, y_train)\n",
    "y_pred = BC.predict(X_test)\n",
    "\n",
    "accuracy = accuracy_score(Y_test, y_pred)"
   ]
  }
 ],
 "metadata": {
  "interpreter": {
   "hash": "37d127deac291ffcf9c7f40aed0f25c4c2b1eb59582edad5fe8fcfda13ce033a"
  },
  "kernelspec": {
   "display_name": "Python 3.10.3 64-bit",
   "language": "python",
   "name": "python3"
  },
  "language_info": {
   "codemirror_mode": {
    "name": "ipython",
    "version": 3
   },
   "file_extension": ".py",
   "mimetype": "text/x-python",
   "name": "python",
   "nbconvert_exporter": "python",
   "pygments_lexer": "ipython3",
   "version": "3.10.3"
  },
  "orig_nbformat": 4
 },
 "nbformat": 4,
 "nbformat_minor": 2
}
